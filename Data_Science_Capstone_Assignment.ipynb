{
  "nbformat": 4,
  "nbformat_minor": 0,
  "metadata": {
    "kernelspec": {
      "display_name": "Python 3",
      "language": "python",
      "name": "python3"
    },
    "language_info": {
      "codemirror_mode": {
        "name": "ipython",
        "version": 3
      },
      "file_extension": ".py",
      "mimetype": "text/x-python",
      "name": "python",
      "nbconvert_exporter": "python",
      "pygments_lexer": "ipython3",
      "version": "3.6.8"
    },
    "colab": {
      "name": "Data Science Capstone assignment 1.ipynb",
      "provenance": []
    }
  },
  "cells": [
    {
      "cell_type": "markdown",
      "metadata": {
        "id": "o3edImP-zt8F",
        "colab_type": "text"
      },
      "source": [
        "### This notebook is mainly used for the Applied Data Science Capstone peer graded assignment "
      ]
    },
    {
      "cell_type": "markdown",
      "metadata": {
        "id": "aCtuPMWRzt8H",
        "colab_type": "text"
      },
      "source": [
        "#### Import following libraries "
      ]
    },
    {
      "cell_type": "code",
      "metadata": {
        "id": "EA15X_thzt8I",
        "colab_type": "code",
        "colab": {}
      },
      "source": [
        "import pandas as pd\n",
        "import numpy as np"
      ],
      "execution_count": 0,
      "outputs": []
    },
    {
      "cell_type": "markdown",
      "metadata": {
        "id": "A3KhzQLgzt8P",
        "colab_type": "text"
      },
      "source": [
        "Print the following the statement: Hello Capstone Project Course!"
      ]
    },
    {
      "cell_type": "code",
      "metadata": {
        "id": "bSqKmVF5zt8P",
        "colab_type": "code",
        "outputId": "17cd190e-1363-4935-deea-e72b6aa9de42",
        "colab": {
          "base_uri": "https://localhost:8080/",
          "height": 35
        }
      },
      "source": [
        "print(\"Hello Capstone Project Course!\")"
      ],
      "execution_count": 2,
      "outputs": [
        {
          "output_type": "stream",
          "text": [
            "Hello Capstone Project Course!\n"
          ],
          "name": "stdout"
        }
      ]
    },
    {
      "cell_type": "code",
      "metadata": {
        "id": "eszVtpPz0p3y",
        "colab_type": "code",
        "colab": {}
      },
      "source": [
        ""
      ],
      "execution_count": 0,
      "outputs": []
    }
  ]
}